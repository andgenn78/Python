{
 "cells": [
  {
   "cell_type": "markdown",
   "metadata": {
    "colab_type": "text",
    "id": "fbrJ-KUkJH1I"
   },
   "source": [
    "<center>\n",
    "\n",
    "## 2.1. Numpy basics. Ищем пересечение в 2-х массивах."
   ]
  },
  {
   "cell_type": "markdown",
   "metadata": {
    "colab_type": "text",
    "id": "i0yN4cdFJH1L"
   },
   "source": [
    "Это библиотека для всевозможных математических операций, с большим количеством реализованных методов и возможностью реализовывать свою логику эффективно.  <br>\n",
    "Например векторные и матричные произведения, которые используюся в машинном обучении, а также рассчет различных статистик. \n",
    "\n",
    "Импортируем библиотеку [**numpy**](https://docs.scipy.org/doc/numpy-1.15.1/reference/) и сократим ее название для удобства и поддержания общепринятых обозначений. <br>"
   ]
  },
  {
   "cell_type": "code",
   "execution_count": 3,
   "metadata": {
    "colab": {},
    "colab_type": "code",
    "id": "e12bm4UUJH1M"
   },
   "outputs": [],
   "source": [
    "import numpy as np"
   ]
  },
  {
   "cell_type": "markdown",
   "metadata": {
    "colab_type": "text",
    "id": "GSEl-QIhJH1V"
   },
   "source": [
    "Основа [**numpy**](https://docs.scipy.org/doc/numpy-1.15.1/reference/) это вектора (**array**) и матрицы (**matrix**).<br>\n",
    "Создадим вектор и попробуем возможности библиотеки."
   ]
  },
  {
   "cell_type": "markdown",
   "metadata": {
    "colab_type": "text",
    "id": "j-jddNMpJH1W"
   },
   "source": [
    "### Вектора"
   ]
  },
  {
   "cell_type": "code",
   "execution_count": 20,
   "metadata": {
    "colab": {},
    "colab_type": "code",
    "id": "bYvvRSUIJH1Y"
   },
   "outputs": [],
   "source": [
    "a = np.array([0, 1, 2, 3, 4, 5, 6])"
   ]
  },
  {
   "cell_type": "code",
   "execution_count": 21,
   "metadata": {
    "colab": {},
    "colab_type": "code",
    "id": "aj2O1SXKJH1d",
    "outputId": "f9211def-f885-4947-9fde-8183d0316902"
   },
   "outputs": [
    {
     "name": "stdout",
     "output_type": "stream",
     "text": [
      "<class 'numpy.ndarray'>\n"
     ]
    }
   ],
   "source": [
    "print(type(a))"
   ]
  },
  {
   "cell_type": "code",
   "execution_count": 22,
   "metadata": {
    "colab": {},
    "colab_type": "code",
    "id": "odyLfGxuJH1m",
    "outputId": "95da7783-dec0-4567-e2e2-c4b19cf8fa85"
   },
   "outputs": [
    {
     "name": "stdout",
     "output_type": "stream",
     "text": [
      "(7,) <class 'tuple'>\n"
     ]
    }
   ],
   "source": [
    "print(a.shape, type(a.shape))"
   ]
  },
  {
   "cell_type": "code",
   "execution_count": 23,
   "metadata": {
    "colab": {},
    "colab_type": "code",
    "id": "Gwa8t2L5JH1w",
    "outputId": "436dc759-6fc2-48d7-82b1-4cadfe03e49e"
   },
   "outputs": [
    {
     "name": "stdout",
     "output_type": "stream",
     "text": [
      "0 1 3\n"
     ]
    }
   ],
   "source": [
    "print(a[0], a[1], a[3]) # индексация по элементам"
   ]
  },
  {
   "cell_type": "code",
   "execution_count": 24,
   "metadata": {
    "colab": {},
    "colab_type": "code",
    "id": "JzJesTEYJH12",
    "outputId": "9a5e2461-bb8e-4007-eb77-1f75d8e0edc5"
   },
   "outputs": [
    {
     "data": {
      "text/plain": [
       "6"
      ]
     },
     "execution_count": 24,
     "metadata": {},
     "output_type": "execute_result"
    }
   ],
   "source": [
    "# берем последний элемент в массиве\n",
    "a[-1] # индексация диапазоном"
   ]
  },
  {
   "cell_type": "code",
   "execution_count": 25,
   "metadata": {
    "colab": {},
    "colab_type": "code",
    "id": "GVJvqyOlJH18",
    "outputId": "d8c9fc9a-bd61-4f66-e0bc-a3ffac09bed1"
   },
   "outputs": [
    {
     "data": {
      "text/plain": [
       "array([3, 4, 5, 6])"
      ]
     },
     "execution_count": 25,
     "metadata": {},
     "output_type": "execute_result"
    }
   ],
   "source": [
    "a[3:]"
   ]
  },
  {
   "cell_type": "code",
   "execution_count": 27,
   "metadata": {
    "colab": {},
    "colab_type": "code",
    "id": "coEUo6B8JH2D",
    "outputId": "d4673c2a-6bcc-4f09-cbe4-ef6ab02163ad"
   },
   "outputs": [
    {
     "data": {
      "text/plain": [
       "array([6, 5, 4, 3, 2, 1, 0])"
      ]
     },
     "execution_count": 27,
     "metadata": {},
     "output_type": "execute_result"
    }
   ],
   "source": [
    "a[::-1] # перевернуть вектор"
   ]
  },
  {
   "cell_type": "code",
   "execution_count": 31,
   "metadata": {
    "colab": {},
    "colab_type": "code",
    "id": "HaLOFdKBJH2J",
    "outputId": "e0599660-6a64-4071-9796-e33bfe03d106"
   },
   "outputs": [
    {
     "data": {
      "text/plain": [
       "array([1, 1, 2, 3, 4, 5, 6])"
      ]
     },
     "execution_count": 31,
     "metadata": {},
     "output_type": "execute_result"
    }
   ],
   "source": [
    "a[0] = 1 # операция присвоения\n",
    "a"
   ]
  },
  {
   "cell_type": "code",
   "execution_count": 30,
   "metadata": {
    "colab": {},
    "colab_type": "code",
    "id": "fl_tAQ84JH2P",
    "outputId": "baa29c14-2a53-4e79-9c7f-37fb89b3134a"
   },
   "outputs": [
    {
     "name": "stdout",
     "output_type": "stream",
     "text": [
      "[ 6  6  7  8  9 10 11]\n",
      "[ 5.5 11.  16.5 22. ]\n"
     ]
    }
   ],
   "source": [
    "print(a + 5)\n",
    "\n",
    "b = np.array([1., 2, 3, 4])\n",
    "print(b * 5.5)"
   ]
  },
  {
   "cell_type": "markdown",
   "metadata": {
    "colab_type": "text",
    "id": "KRYbKgIoJH2X"
   },
   "source": [
    "### Матрицы "
   ]
  },
  {
   "cell_type": "markdown",
   "metadata": {
    "colab_type": "text",
    "id": "lTG_A2FYJH2Y"
   },
   "source": [
    "Матрицы по сути это таблички без границ."
   ]
  },
  {
   "cell_type": "code",
   "execution_count": 32,
   "metadata": {},
   "outputs": [],
   "source": [
    "??np.append"
   ]
  },
  {
   "cell_type": "code",
   "execution_count": 34,
   "metadata": {
    "colab": {},
    "colab_type": "code",
    "id": "EXQO4iSIJH2Z"
   },
   "outputs": [
    {
     "name": "stdout",
     "output_type": "stream",
     "text": [
      "[[ 1  2  3  4]\n",
      " [ 5  6  7  8]\n",
      " [ 9 10 11 12]] <class 'numpy.ndarray'>\n"
     ]
    }
   ],
   "source": [
    "a = np.array([[1,2,3,4], [5,6,7,8], [9,10,11,12]])\n",
    "print(a, type(a))"
   ]
  },
  {
   "cell_type": "code",
   "execution_count": 44,
   "metadata": {
    "colab": {},
    "colab_type": "code",
    "id": "iHXKM-m8JH2d",
    "outputId": "76990f6c-c0b5-4bb2-b74f-5a33cc06999c"
   },
   "outputs": [
    {
     "data": {
      "text/plain": [
       "array([[5, 6, 7, 8]])"
      ]
     },
     "execution_count": 44,
     "metadata": {},
     "output_type": "execute_result"
    }
   ],
   "source": [
    "a\n",
    "a[1:2,:]"
   ]
  },
  {
   "cell_type": "code",
   "execution_count": 45,
   "metadata": {
    "colab": {},
    "colab_type": "code",
    "id": "JrROdXHlJH2j",
    "outputId": "da6ee438-591b-4195-9e4b-f1f8625745b6"
   },
   "outputs": [
    {
     "name": "stdout",
     "output_type": "stream",
     "text": [
      "<class 'numpy.ndarray'>\n"
     ]
    }
   ],
   "source": [
    "print(type(a))"
   ]
  },
  {
   "cell_type": "code",
   "execution_count": 50,
   "metadata": {
    "colab": {},
    "colab_type": "code",
    "id": "V0CvWhWUJH2q",
    "outputId": "1d68da75-f1e5-43e7-8cf2-994a1210fdff"
   },
   "outputs": [
    {
     "data": {
      "text/plain": [
       "array([[ 4,  3,  2,  1],\n",
       "       [ 8,  7,  6,  5],\n",
       "       [12, 11, 10,  9]])"
      ]
     },
     "execution_count": 50,
     "metadata": {},
     "output_type": "execute_result"
    }
   ],
   "source": [
    "a[::,::-1]"
   ]
  },
  {
   "cell_type": "code",
   "execution_count": 57,
   "metadata": {
    "colab": {},
    "colab_type": "code",
    "id": "JEPS3wDtJH2v",
    "outputId": "c4a05683-fa92-4105-9619-f66b6f5a4ffb"
   },
   "outputs": [
    {
     "name": "stdout",
     "output_type": "stream",
     "text": [
      "Наша матрица:\n",
      "[[ 1  2  3  4]\n",
      " [ 5  6  7  8]\n",
      " [ 9 10 11 12]] (3, 4)\n",
      "---\n",
      "Наша распрямленная матрица:\n",
      "[ 1  2  3  4  5  6  7  8  9 10 11 12] <class 'numpy.ndarray'>\n"
     ]
    }
   ],
   "source": [
    "print('Наша матрица:')\n",
    "print(a, a.shape)\n",
    "print('---')\n",
    "print('Наша распрямленная матрица:')\n",
    "print(a.flatten(), type(a.flatten()))"
   ]
  },
  {
   "cell_type": "code",
   "execution_count": 62,
   "metadata": {
    "colab": {},
    "colab_type": "code",
    "id": "0ZUKUWFJJH21",
    "outputId": "5de3ca71-b9c1-4667-c10c-46586848d023"
   },
   "outputs": [
    {
     "data": {
      "text/plain": [
       "48"
      ]
     },
     "execution_count": 62,
     "metadata": {},
     "output_type": "execute_result"
    }
   ],
   "source": [
    "a.nbytes"
   ]
  },
  {
   "cell_type": "code",
   "execution_count": 63,
   "metadata": {
    "colab": {},
    "colab_type": "code",
    "id": "WQXj1N1QJH26",
    "outputId": "9b1a081e-3804-44d4-8b0c-53fa0631f7b4"
   },
   "outputs": [
    {
     "data": {
      "text/plain": [
       "(3, 4)"
      ]
     },
     "execution_count": 63,
     "metadata": {},
     "output_type": "execute_result"
    }
   ],
   "source": [
    "a.shape"
   ]
  },
  {
   "cell_type": "code",
   "execution_count": 64,
   "metadata": {
    "colab": {},
    "colab_type": "code",
    "id": "2ysQXnkBJH2_",
    "outputId": "bd080642-54c4-40bf-da2a-722e5c1593e1"
   },
   "outputs": [
    {
     "data": {
      "text/plain": [
       "96"
      ]
     },
     "execution_count": 64,
     "metadata": {},
     "output_type": "execute_result"
    }
   ],
   "source": [
    "a.shape[0]* a.shape[1]*8"
   ]
  },
  {
   "cell_type": "code",
   "execution_count": 65,
   "metadata": {
    "colab": {},
    "colab_type": "code",
    "id": "Cp4TJ9FvJH3D",
    "outputId": "b4e8b407-ffc3-4cb0-f676-0ecf39fba881"
   },
   "outputs": [
    {
     "data": {
      "text/plain": [
       "array([5, 6, 7, 8])"
      ]
     },
     "execution_count": 65,
     "metadata": {},
     "output_type": "execute_result"
    }
   ],
   "source": [
    "row_r1 = a[1, :] # Индексируемся по строкам матрицы. Первый ряд, помните о том что индексация в Python начинается с 0.\n",
    "row_r1"
   ]
  },
  {
   "cell_type": "code",
   "execution_count": 67,
   "metadata": {
    "colab": {},
    "colab_type": "code",
    "id": "Tiqym-31JH3I",
    "outputId": "32ce4af0-bd20-42f8-d779-90f2e9e038f9"
   },
   "outputs": [
    {
     "data": {
      "text/plain": [
       "array([[1, 2, 3],\n",
       "       [5, 6, 7]])"
      ]
     },
     "execution_count": 67,
     "metadata": {},
     "output_type": "execute_result"
    }
   ],
   "source": [
    "row_r2 = a[:2, :3]\n",
    "row_r2"
   ]
  },
  {
   "cell_type": "code",
   "execution_count": 68,
   "metadata": {
    "colab": {},
    "colab_type": "code",
    "id": "ruKup_wqJH3N",
    "outputId": "59011ee5-66cf-46e3-ee9d-4fd0fa767c0a"
   },
   "outputs": [
    {
     "data": {
      "text/plain": [
       "array([[ 1,  2,  3,  4],\n",
       "       [ 5,  6,  7,  8],\n",
       "       [ 9, 10, 11, 12]])"
      ]
     },
     "execution_count": 68,
     "metadata": {},
     "output_type": "execute_result"
    }
   ],
   "source": [
    "row_r2.base"
   ]
  },
  {
   "cell_type": "code",
   "execution_count": 69,
   "metadata": {
    "colab": {},
    "colab_type": "code",
    "id": "82RYQsSTJH3T",
    "outputId": "ab7cf7a2-16c7-45d2-9865-af7595bcafb7"
   },
   "outputs": [
    {
     "name": "stdout",
     "output_type": "stream",
     "text": [
      "[5 6 7 8] (4,)\n",
      "[[1 2 3]\n",
      " [5 6 7]] (2, 3)\n"
     ]
    }
   ],
   "source": [
    "print(row_r1, row_r1.shape)\n",
    "print(row_r2, row_r2.shape)"
   ]
  },
  {
   "cell_type": "code",
   "execution_count": 70,
   "metadata": {
    "colab": {},
    "colab_type": "code",
    "id": "XcxELxu9JH3Z",
    "outputId": "97a4a864-36d6-4a14-f70c-5afe2d71fe34"
   },
   "outputs": [
    {
     "data": {
      "text/plain": [
       "array([[1, 2, 3],\n",
       "       [5, 6, 7]])"
      ]
     },
     "execution_count": 70,
     "metadata": {},
     "output_type": "execute_result"
    }
   ],
   "source": [
    "row_r2"
   ]
  },
  {
   "cell_type": "code",
   "execution_count": 71,
   "metadata": {
    "colab": {},
    "colab_type": "code",
    "id": "xW4BZ5dTJH3c",
    "outputId": "030f4170-88e6-4b01-b02f-77db7c56c79b"
   },
   "outputs": [
    {
     "data": {
      "text/plain": [
       "array([[ 1,  2,  3,  4],\n",
       "       [ 5,  6,  7,  8],\n",
       "       [ 9, 10, 11, 12]])"
      ]
     },
     "execution_count": 71,
     "metadata": {},
     "output_type": "execute_result"
    }
   ],
   "source": [
    "row_r2.base # Посмотреть изначальную матрицу"
   ]
  },
  {
   "cell_type": "code",
   "execution_count": 72,
   "metadata": {
    "colab": {},
    "colab_type": "code",
    "id": "1Spj2bjxJH3g",
    "outputId": "65d895f5-b6d0-43dd-bfeb-b9d102e19103"
   },
   "outputs": [
    {
     "name": "stdout",
     "output_type": "stream",
     "text": [
      "[ 2  6 10]\n",
      "---\n",
      "(3,)\n"
     ]
    }
   ],
   "source": [
    "col_r1 = a[:, 1] # Индексируемся по колонкам матрицы.\n",
    "print(col_r1)\n",
    "print('---')\n",
    "print(col_r1.shape)"
   ]
  },
  {
   "cell_type": "code",
   "execution_count": 74,
   "metadata": {
    "colab": {},
    "colab_type": "code",
    "id": "h1e9RrJOJH3l",
    "outputId": "10c85602-7c17-4a06-a7fa-c3c8f480343e"
   },
   "outputs": [
    {
     "name": "stdout",
     "output_type": "stream",
     "text": [
      "[[ 2  3]\n",
      " [ 6  7]\n",
      " [10 11]]\n",
      "---\n",
      "(3, 2)\n"
     ]
    }
   ],
   "source": [
    "col_r2 = a[:, 1:3]\n",
    "print(col_r2)\n",
    "print('---')\n",
    "print(col_r2.shape)"
   ]
  },
  {
   "cell_type": "markdown",
   "metadata": {
    "colab_type": "text",
    "id": "BAsCsSAdJH3p"
   },
   "source": [
    "### Операции"
   ]
  },
  {
   "cell_type": "code",
   "execution_count": 82,
   "metadata": {
    "colab": {},
    "colab_type": "code",
    "id": "qzHiWbqKJH3q",
    "outputId": "632fc955-f22d-46cb-8951-8e19af8a4c53"
   },
   "outputs": [
    {
     "name": "stdout",
     "output_type": "stream",
     "text": [
      "x = \n",
      "[[1. 2.]\n",
      " [3. 4.]]\n",
      "y = \n",
      "[[5. 6.]\n",
      " [7. 8.]]\n",
      "x + y =\n",
      "[[ 6.  8.]\n",
      " [10. 12.]] <class 'numpy.ndarray'>\n",
      "[[ 6.  8.]\n",
      " [10. 12.]] <class 'numpy.ndarray'>\n"
     ]
    }
   ],
   "source": [
    "x = np.array([[1,2],[3,4]], dtype=np.float64)\n",
    "y = np.array([[5,6],[7,8]], dtype=np.float64)\n",
    "\n",
    "print(\"x = \")\n",
    "print(x)\n",
    "print(\"y = \")\n",
    "print(y)\n",
    "\n",
    "# Поэлементное сложение\n",
    "print(\"x + y =\")\n",
    "print(x + y, type(x+y))\n",
    "print(np.add(x, y), type(np.add(x, y)))"
   ]
  },
  {
   "cell_type": "code",
   "execution_count": 83,
   "metadata": {
    "colab": {},
    "colab_type": "code",
    "id": "afbXrsg-JH3t",
    "outputId": "b2303c20-8cf3-482b-ae43-68b4e0ee6ec5"
   },
   "outputs": [
    {
     "name": "stdout",
     "output_type": "stream",
     "text": [
      "[[-4. -4.]\n",
      " [-4. -4.]]\n",
      "[[-4. -4.]\n",
      " [-4. -4.]]\n"
     ]
    }
   ],
   "source": [
    "# Поэлементное вычитание\n",
    "# [[-4.0 -4.0]\n",
    "#  [-4.0 -4.0]]\n",
    "print(x - y)\n",
    "print(np.subtract(x, y))"
   ]
  },
  {
   "cell_type": "code",
   "execution_count": 84,
   "metadata": {
    "colab": {},
    "colab_type": "code",
    "id": "z9cdW6UhJH3x",
    "outputId": "548a2a12-34e2-4207-e5f4-880be7551adb"
   },
   "outputs": [
    {
     "name": "stdout",
     "output_type": "stream",
     "text": [
      "Поэлементное умножение\n",
      "[[ 5. 12.]\n",
      " [21. 32.]]\n",
      "[[ 5. 12.]\n",
      " [21. 32.]]\n",
      "---\n",
      "Поэлементное деление\n",
      "[[0.2        0.33333333]\n",
      " [0.42857143 0.5       ]]\n",
      "[[0.2        0.33333333]\n",
      " [0.42857143 0.5       ]]\n",
      "---\n",
      "Поэлементное взятие квадратного корня\n",
      "[[1.         1.41421356]\n",
      " [1.73205081 2.        ]]\n",
      "Wall time: 0 ns\n"
     ]
    }
   ],
   "source": [
    "import time\n",
    "\n",
    "print('Поэлементное умножение')\n",
    "# [[ 5.0 12.0]\n",
    "#  [21.0 32.0]]\n",
    "print(x * y)\n",
    "print(np.multiply(x, y))\n",
    "print('---')\n",
    "print('Поэлементное деление')\n",
    "# [[ 0.2         0.33333333]\n",
    "#  [ 0.42857143  0.5       ]]\n",
    "print(x / y)\n",
    "print(np.divide(x, y))\n",
    "print('---')\n",
    "print('Поэлементное взятие квадратного корня')\n",
    "# [[ 1.          1.41421356]\n",
    "#  [ 1.73205081  2.        ]]\n",
    "print(np.sqrt(x))\n",
    "\n",
    "%time"
   ]
  },
  {
   "cell_type": "markdown",
   "metadata": {
    "colab_type": "text",
    "id": "4KTUyoCVJH31"
   },
   "source": [
    "### Некоторые полезные методы"
   ]
  },
  {
   "cell_type": "markdown",
   "metadata": {
    "colab_type": "text",
    "id": "3ObrlSr0JH33"
   },
   "source": [
    "### Argmax/argmin"
   ]
  },
  {
   "cell_type": "code",
   "execution_count": 107,
   "metadata": {
    "colab": {},
    "colab_type": "code",
    "id": "WSPXlJNMJH33",
    "outputId": "507a8131-173d-4b9b-faec-100d3b06ea1b"
   },
   "outputs": [
    {
     "name": "stdout",
     "output_type": "stream",
     "text": [
      "X\n",
      "[ 0  1  2  3  4  5  6  7  8  9 10]\n",
      "range(0, 11) <class 'range'>\n",
      "[0, 1, 2, 3, 4, 5, 6, 7, 8, 9, 10] <class 'list'>\n",
      "[ 0  1  2  3  4  5  6  7  8  9 10] <class 'numpy.ndarray'>\n",
      "Y\n",
      "(1, 2, 3) <class 'tuple'>\n",
      "[1 2 3] \n",
      " <class 'numpy.ndarray'>\n",
      "Z\n",
      "[0 1 2 3 4] <class 'numpy.ndarray'>\n"
     ]
    },
    {
     "data": {
      "text/plain": [
       "'X: [ 0  1  2  3  4  5  6  7  8  9 10]; Y: [1 2 3]'"
      ]
     },
     "execution_count": 107,
     "metadata": {},
     "output_type": "execute_result"
    }
   ],
   "source": [
    "x = np.array(list(range(0,11)))\n",
    "print(\"X\")\n",
    "print(x)\n",
    "print(range(0,11), type(range(0,11)))\n",
    "print(list(range(0,11)), type(list(range(0,11))))\n",
    "print(x, type(x))\n",
    "\n",
    "print(\"Y\")\n",
    "y = np.array(tuple([1,2,3]))\n",
    "print(tuple([1,2,3]),type(tuple([1,2,3])))\n",
    "print(y,\"\\n\",type(y))\n",
    "\n",
    "z = np.array(range(0,5))\n",
    "print(\"Z\")\n",
    "print(z, type(z))\n",
    "\n",
    "'X: {0}; Y: {1}'.format(x, y)"
   ]
  },
  {
   "cell_type": "code",
   "execution_count": 110,
   "metadata": {
    "colab": {},
    "colab_type": "code",
    "id": "iAB6Jqj_JH37",
    "outputId": "929d7709-f374-415a-cfcc-3c17405bcf35"
   },
   "outputs": [
    {
     "name": "stdout",
     "output_type": "stream",
     "text": [
      "5\n",
      "9\n"
     ]
    }
   ],
   "source": [
    "print(x.argmax())\n",
    "print(x.argmin())"
   ]
  },
  {
   "cell_type": "code",
   "execution_count": 112,
   "metadata": {
    "colab": {},
    "colab_type": "code",
    "id": "y8bKvZsBJH3_",
    "outputId": "d9351b45-5440-478b-a1eb-eb4c3d17396b"
   },
   "outputs": [
    {
     "data": {
      "text/plain": [
       "array([  0,   1,   2,   3,   4,  99,  99,   7,   8, -99,  10])"
      ]
     },
     "execution_count": 112,
     "metadata": {},
     "output_type": "execute_result"
    }
   ],
   "source": [
    "x[5] = 99\n",
    "x[6] = 99\n",
    "x[9] = -99\n",
    "x"
   ]
  },
  {
   "cell_type": "code",
   "execution_count": 113,
   "metadata": {
    "colab": {},
    "colab_type": "code",
    "id": "LhwH4qybJH4D",
    "outputId": "fda0e550-81cc-496b-c020-022570280c91"
   },
   "outputs": [
    {
     "name": "stdout",
     "output_type": "stream",
     "text": [
      "5\n",
      "9\n"
     ]
    }
   ],
   "source": [
    "print(x.argmax()) # Показывает индекс максимального значения, бывает очень полезно при поиске значений в массиве\n",
    "print(x.argmin()) # Показывает индекс минимального значения"
   ]
  },
  {
   "cell_type": "markdown",
   "metadata": {
    "colab_type": "text",
    "id": "vREQkHOzJH4L"
   },
   "source": [
    "### Transpose"
   ]
  },
  {
   "cell_type": "code",
   "execution_count": 117,
   "metadata": {
    "colab": {},
    "colab_type": "code",
    "id": "BO1aejl_JH4M",
    "outputId": "39eebf83-02b6-4d92-d163-39f98c35e124"
   },
   "outputs": [
    {
     "name": "stdout",
     "output_type": "stream",
     "text": [
      "[[1 2 3 4]\n",
      " [5 6 7 8]]\n",
      "[1 2 3 4]\n"
     ]
    }
   ],
   "source": [
    "a = np.array([[1,2,3,4], [5,6,7,8]])\n",
    "b = np.array([1,2,3,4])\n",
    "print(a)\n",
    "print(b)"
   ]
  },
  {
   "cell_type": "code",
   "execution_count": 121,
   "metadata": {
    "colab": {},
    "colab_type": "code",
    "id": "Q8iwFoYIJH4T",
    "outputId": "4baf1d69-777a-496d-b9f0-02148a6dded2"
   },
   "outputs": [
    {
     "name": "stdout",
     "output_type": "stream",
     "text": [
      "[[1 5]\n",
      " [2 6]\n",
      " [3 7]\n",
      " [4 8]]\n",
      "[[5 6 7 8]]\n",
      "[[5]\n",
      " [6]\n",
      " [7]\n",
      " [8]]\n"
     ]
    }
   ],
   "source": [
    "print(a.T) # транспонирование или переворачивание объекта вокруг диагональной оси\n",
    "print(a[1:2,:])\n",
    "print(a[1:2,:].T)"
   ]
  },
  {
   "cell_type": "code",
   "execution_count": 123,
   "metadata": {
    "colab": {},
    "colab_type": "code",
    "id": "GD3SjrB8JH4X",
    "outputId": "9e891546-c373-4f50-f1a4-504a59c4766f"
   },
   "outputs": [
    {
     "name": "stdout",
     "output_type": "stream",
     "text": [
      "[['may' 'june' 'july' 'august']\n",
      " ['100' '101' '102' '500']]\n",
      "---\n",
      "[['may' '100']\n",
      " ['june' '101']\n",
      " ['july' '102']\n",
      " ['august' '500']]\n"
     ]
    }
   ],
   "source": [
    "a = np.array([['may','june','july','august'], [100,101,102,500]])\n",
    "print(a)\n",
    "print('---')\n",
    "print(a.T)"
   ]
  },
  {
   "cell_type": "code",
   "execution_count": 124,
   "metadata": {
    "colab": {},
    "colab_type": "code",
    "id": "xkHJ_aOBJH4a",
    "outputId": "48cd725f-54bc-4c88-e3e2-4d04344d83e0"
   },
   "outputs": [
    {
     "name": "stdout",
     "output_type": "stream",
     "text": [
      "[  0   1   2   3   4  99  99   7   8 -99  10]\n",
      "[  0   1   2   3   4  99  99   7   8 -99  10]\n"
     ]
    }
   ],
   "source": [
    "print(x)\n",
    "print(x.T)"
   ]
  },
  {
   "cell_type": "markdown",
   "metadata": {
    "colab_type": "text",
    "id": "2eXWv2amJH4f"
   },
   "source": [
    "### Append"
   ]
  },
  {
   "cell_type": "code",
   "execution_count": 131,
   "metadata": {
    "colab": {},
    "colab_type": "code",
    "id": "TNMpalaOJH4f",
    "outputId": "05909715-527d-4236-d23a-679192533234"
   },
   "outputs": [
    {
     "ename": "AttributeError",
     "evalue": "'numpy.ndarray' object has no attribute 'append'",
     "output_type": "error",
     "traceback": [
      "\u001b[1;31m---------------------------------------------------------------------------\u001b[0m",
      "\u001b[1;31mAttributeError\u001b[0m                            Traceback (most recent call last)",
      "\u001b[1;32m<ipython-input-131-f480cd1b5389>\u001b[0m in \u001b[0;36m<module>\u001b[1;34m\u001b[0m\n\u001b[0;32m      1\u001b[0m \u001b[0ma\u001b[0m \u001b[1;33m=\u001b[0m \u001b[0mnp\u001b[0m\u001b[1;33m.\u001b[0m\u001b[0marray\u001b[0m\u001b[1;33m(\u001b[0m\u001b[1;33m[\u001b[0m\u001b[1;34m'may'\u001b[0m\u001b[1;33m,\u001b[0m \u001b[1;34m'june'\u001b[0m\u001b[1;33m,\u001b[0m \u001b[1;34m'july'\u001b[0m\u001b[1;33m,\u001b[0m \u001b[1;34m'august'\u001b[0m\u001b[1;33m]\u001b[0m\u001b[1;33m)\u001b[0m\u001b[1;33m\u001b[0m\u001b[1;33m\u001b[0m\u001b[0m\n\u001b[1;32m----> 2\u001b[1;33m \u001b[0ma\u001b[0m\u001b[1;33m.\u001b[0m\u001b[0mappend\u001b[0m\u001b[1;33m(\u001b[0m\u001b[1;34m'august'\u001b[0m\u001b[1;33m)\u001b[0m\u001b[1;33m\u001b[0m\u001b[1;33m\u001b[0m\u001b[0m\n\u001b[0m",
      "\u001b[1;31mAttributeError\u001b[0m: 'numpy.ndarray' object has no attribute 'append'"
     ]
    }
   ],
   "source": [
    "a = np.array(['may', 'june', 'july', 'august'])\n",
    "a.append('august')"
   ]
  },
  {
   "cell_type": "code",
   "execution_count": 126,
   "metadata": {
    "colab": {},
    "colab_type": "code",
    "id": "XvfzUa8TJH4m"
   },
   "outputs": [
    {
     "name": "stdout",
     "output_type": "stream",
     "text": [
      "Object `np.append()` not found.\n"
     ]
    }
   ],
   "source": [
    "?np.append()"
   ]
  },
  {
   "cell_type": "code",
   "execution_count": 132,
   "metadata": {
    "colab": {},
    "colab_type": "code",
    "id": "s_GjibUSJH4q",
    "outputId": "2fde9216-37a1-4869-e90a-cf7fe4512380"
   },
   "outputs": [
    {
     "name": "stdout",
     "output_type": "stream",
     "text": [
      "['may' 'june' 'july' 'august' 'august']\n",
      "['may' 'june' 'july' 'august']\n",
      "['may' 'june' 'july' 'august' 'august']\n"
     ]
    }
   ],
   "source": [
    "print(np.append(a,'august'))\n",
    "print(a)\n",
    "a = np.append(a,'august') # Надо переназначать объект/ присваивать его заново после операций, чтобы он обновился.\n",
    "print(a)"
   ]
  },
  {
   "cell_type": "markdown",
   "metadata": {
    "colab_type": "text",
    "id": "YMwdF3uMJH4u"
   },
   "source": [
    "### Unique"
   ]
  },
  {
   "cell_type": "code",
   "execution_count": 133,
   "metadata": {
    "colab": {},
    "colab_type": "code",
    "id": "QxpNHoswJH4u",
    "outputId": "47a1e4c9-7792-4023-ad91-31aaf57a767d"
   },
   "outputs": [
    {
     "data": {
      "text/plain": [
       "array(['august', 'july', 'june', 'may'], dtype='<U6')"
      ]
     },
     "execution_count": 133,
     "metadata": {},
     "output_type": "execute_result"
    }
   ],
   "source": [
    "np.unique(a)"
   ]
  },
  {
   "cell_type": "code",
   "execution_count": 134,
   "metadata": {
    "colab": {},
    "colab_type": "code",
    "id": "zihPmCCWJH41",
    "outputId": "58c12a9e-be0c-4774-eabd-6a02257e9452",
    "scrolled": true
   },
   "outputs": [
    {
     "data": {
      "text/plain": [
       "array(['august', 'july', 'june', 'may'], dtype='<U6')"
      ]
     },
     "execution_count": 134,
     "metadata": {},
     "output_type": "execute_result"
    }
   ],
   "source": [
    "b = np.unique(a)\n",
    "b"
   ]
  },
  {
   "cell_type": "code",
   "execution_count": 135,
   "metadata": {
    "colab": {},
    "colab_type": "code",
    "id": "qk5J0ryYJH44",
    "outputId": "c0d77208-c0e2-4181-9890-0ee30a6ae46f"
   },
   "outputs": [
    {
     "data": {
      "text/plain": [
       "array(['may', 'june', 'july', 'august', 'august'], dtype='<U6')"
      ]
     },
     "execution_count": 135,
     "metadata": {},
     "output_type": "execute_result"
    }
   ],
   "source": [
    "a"
   ]
  },
  {
   "cell_type": "markdown",
   "metadata": {
    "colab_type": "text",
    "id": "ZjHqbgJrJH47"
   },
   "source": [
    "### Concatenate"
   ]
  },
  {
   "cell_type": "code",
   "execution_count": null,
   "metadata": {
    "colab": {},
    "colab_type": "code",
    "id": "_YZgnwDQJH48",
    "outputId": "a786fc56-9fde-4ef9-fa2c-9a6376f5f631"
   },
   "outputs": [
    {
     "data": {
      "text/plain": [
       "array(['march', 'april', 'may', 'june', 'july', 'august'], dtype='<U6')"
      ]
     },
     "execution_count": 42,
     "metadata": {
      "tags": []
     },
     "output_type": "execute_result"
    }
   ],
   "source": [
    "spring = np.array(['march', 'april', 'may'])\n",
    "summer = np.array(['june', 'july', 'august'])\n",
    "warm_months = np.concatenate([spring, summer])\n",
    "warm_months"
   ]
  },
  {
   "cell_type": "code",
   "execution_count": 136,
   "metadata": {
    "colab": {},
    "colab_type": "code",
    "id": "vZv8Gf8cJH4-"
   },
   "outputs": [],
   "source": [
    "??np.concatenate"
   ]
  },
  {
   "cell_type": "markdown",
   "metadata": {
    "colab_type": "text",
    "id": "OyG5UBMCJH5D"
   },
   "source": [
    "### Nonzero"
   ]
  },
  {
   "cell_type": "code",
   "execution_count": 138,
   "metadata": {
    "colab": {},
    "colab_type": "code",
    "id": "8JFYCvMzJH5E",
    "outputId": "35bda780-fdf0-4c68-fec8-6dfbe5e2d13b"
   },
   "outputs": [
    {
     "name": "stdout",
     "output_type": "stream",
     "text": [
      "Наш вектор длиной:\n",
      "5\n",
      "---\n",
      "Метод покажет ненулевые индексы:\n",
      "(array([0, 1, 2, 3], dtype=int64),)\n",
      "Вывести значения можно так:\n",
      "[100 101 102 500]\n",
      "Проверим длину:\n",
      "4\n"
     ]
    }
   ],
   "source": [
    "a = np.array([100,101,102,500,0])\n",
    "print('Наш вектор длиной:')\n",
    "print(len(a))\n",
    "print('---')\n",
    "print('Метод покажет ненулевые индексы:')\n",
    "print(np.nonzero(a)) \n",
    "print('Вывести значения можно так:')\n",
    "print(a[np.nonzero(a)]) \n",
    "print('Проверим длину:')\n",
    "print(len(a[np.nonzero(a)]))\n",
    "\n",
    "#print(len(np.argwhere(a)))"
   ]
  },
  {
   "cell_type": "markdown",
   "metadata": {
    "colab_type": "text",
    "id": "oFRiWgcEJH5H"
   },
   "source": [
    "## Пересечение двух массивов"
   ]
  },
  {
   "cell_type": "markdown",
   "metadata": {
    "colab_type": "text",
    "id": "ItgTgZbcJH5I"
   },
   "source": [
    "Нередко стоит задача найти общие объекты среди 2-х массивов и найти общие элементы. "
   ]
  },
  {
   "cell_type": "code",
   "execution_count": 139,
   "metadata": {
    "colab": {},
    "colab_type": "code",
    "id": "eo_2GxJDJH5J"
   },
   "outputs": [],
   "source": [
    "a = np.array([1,10,100,1000])\n",
    "b = np.array([1,4,100])"
   ]
  },
  {
   "cell_type": "markdown",
   "metadata": {
    "colab_type": "text",
    "id": "xe235PbCJH5L"
   },
   "source": [
    "А теперь пересечем их методом **np.intersect1d()** и передадим 2 вектора в качестве аргументов."
   ]
  },
  {
   "cell_type": "code",
   "execution_count": 140,
   "metadata": {
    "colab": {},
    "colab_type": "code",
    "id": "OBSKdZNvJH5N",
    "outputId": "3be7ba54-57c5-4c82-c048-d06acc2c3b88"
   },
   "outputs": [
    {
     "data": {
      "text/plain": [
       "array([  1, 100])"
      ]
     },
     "execution_count": 140,
     "metadata": {},
     "output_type": "execute_result"
    }
   ],
   "source": [
    "c = np.intersect1d(a, b)\n",
    "c"
   ]
  },
  {
   "cell_type": "markdown",
   "metadata": {
    "colab_type": "text",
    "id": "4hQxzUgeJH5R"
   },
   "source": [
    "Чтобы не лезть в интеренет и искать документацию, опять же, можно использовать встроенную документацию в Python."
   ]
  },
  {
   "cell_type": "code",
   "execution_count": null,
   "metadata": {
    "colab": {},
    "colab_type": "code",
    "id": "f053cJ_AJH5S"
   },
   "outputs": [],
   "source": [
    "??np.intersect1d"
   ]
  },
  {
   "cell_type": "markdown",
   "metadata": {
    "colab_type": "text",
    "id": "hRarvt4GJH5W"
   },
   "source": [
    "Этот метод, конечно, работает не только с цифрами, но и с другими объектами, например с строками."
   ]
  },
  {
   "cell_type": "code",
   "execution_count": 141,
   "metadata": {
    "colab": {},
    "colab_type": "code",
    "id": "dkM2tLT4JH5X"
   },
   "outputs": [],
   "source": [
    "a = np.array(['Юля', 'Олег', 'Роман', 'Иван'])\n",
    "b = np.array(['Юля','Иван','Леонид'])"
   ]
  },
  {
   "cell_type": "code",
   "execution_count": 147,
   "metadata": {
    "colab": {},
    "colab_type": "code",
    "id": "8mUyI1yYJH5b",
    "outputId": "b4714671-fae8-4e43-d087-3a783db4abc9"
   },
   "outputs": [
    {
     "data": {
      "text/plain": [
       "array(['Иван', 'Юля'], dtype='<U6')"
      ]
     },
     "execution_count": 147,
     "metadata": {},
     "output_type": "execute_result"
    }
   ],
   "source": [
    "c = np.intersect1d(a,b)\n",
    "c"
   ]
  },
  {
   "cell_type": "markdown",
   "metadata": {
    "colab_type": "text",
    "id": "q3vVgV-sJH5f"
   },
   "source": [
    "Вспомним метод, который показывает размерности объекта. <br>\n",
    "И не смотря на то, что у нас всего-лишь вектор, метод **.size** выведет нам количество объектов, которые содержатся в результирующем векторе ( который тоже в свою очередь является объектом, потому что все в Python, как мы помним, это объект!)."
   ]
  },
  {
   "cell_type": "code",
   "execution_count": 149,
   "metadata": {
    "colab": {},
    "colab_type": "code",
    "id": "b6vPLYp5JH5g",
    "outputId": "2500e101-a972-41ec-f825-0e5600c1b6c3"
   },
   "outputs": [
    {
     "data": {
      "text/plain": [
       "2"
      ]
     },
     "execution_count": 149,
     "metadata": {},
     "output_type": "execute_result"
    }
   ],
   "source": [
    "c.size"
   ]
  },
  {
   "cell_type": "markdown",
   "metadata": {
    "colab_type": "text",
    "id": "73Ba8acrJH5k"
   },
   "source": [
    "Тоже самое мы можем найти, используя метод **len( )**, встроенный в язык Python, который измеряет длину вектора."
   ]
  },
  {
   "cell_type": "code",
   "execution_count": 148,
   "metadata": {
    "colab": {},
    "colab_type": "code",
    "id": "SbeNx0DdJH5l",
    "outputId": "98520581-80f1-4798-ab35-94294a1ee0ad"
   },
   "outputs": [
    {
     "data": {
      "text/plain": [
       "2"
      ]
     },
     "execution_count": 148,
     "metadata": {},
     "output_type": "execute_result"
    }
   ],
   "source": [
    "len(c)"
   ]
  },
  {
   "cell_type": "code",
   "execution_count": 145,
   "metadata": {},
   "outputs": [
    {
     "ename": "TypeError",
     "evalue": "'tuple' object is not callable",
     "output_type": "error",
     "traceback": [
      "\u001b[1;31m---------------------------------------------------------------------------\u001b[0m",
      "\u001b[1;31mTypeError\u001b[0m                                 Traceback (most recent call last)",
      "\u001b[1;32m<ipython-input-145-d3dcb95a91fe>\u001b[0m in \u001b[0;36m<module>\u001b[1;34m\u001b[0m\n\u001b[1;32m----> 1\u001b[1;33m \u001b[0mc\u001b[0m\u001b[1;33m.\u001b[0m\u001b[0mshape\u001b[0m\u001b[1;33m(\u001b[0m\u001b[1;33m)\u001b[0m\u001b[1;33m\u001b[0m\u001b[1;33m\u001b[0m\u001b[0m\n\u001b[0m",
      "\u001b[1;31mTypeError\u001b[0m: 'tuple' object is not callable"
     ]
    }
   ],
   "source": []
  },
  {
   "cell_type": "markdown",
   "metadata": {
    "colab_type": "text",
    "id": "HvzhZDrhJH5o"
   },
   "source": [
    "Так же часто встает задача найти значения, которые не являются общими, эдакие эксклюзивные значения из 2х векторов/наборов объектов.\n",
    "Это тоже можно сделать в одну строчку с помощью метода **.setxor1d()** передав ему 2 вектора в качестве аргументов."
   ]
  },
  {
   "cell_type": "code",
   "execution_count": null,
   "metadata": {
    "colab": {},
    "colab_type": "code",
    "id": "LlJSPCAUJH5p"
   },
   "outputs": [],
   "source": [
    "??np.\n",
    "(a, b)"
   ]
  },
  {
   "cell_type": "markdown",
   "metadata": {
    "colab_type": "text",
    "id": "Z3pQyPydJH5q"
   },
   "source": [
    "### Более жизненный пример."
   ]
  },
  {
   "cell_type": "markdown",
   "metadata": {
    "colab_type": "text",
    "id": "yxXYOni3JH5q"
   },
   "source": [
    "На \"игрушечном\" ималеньком массиве мы смогли построить пересечение. Принцип остается тот же, если мы ,например, хотим найти пересечение между большим количеством объектов.<br>\n",
    "Допустим у нас есть какие-либо id пользователей и нам нужно найти пересечение между группами."
   ]
  },
  {
   "cell_type": "markdown",
   "metadata": {
    "colab_type": "text",
    "id": "jYHeV2TsJH5r"
   },
   "source": [
    "Импортируем ниже библиотеку random, с помощью которой можно нагенерить числа, например 4-х значные.<br>\n",
    "Сделаем списки "
   ]
  },
  {
   "cell_type": "code",
   "execution_count": 153,
   "metadata": {
    "colab": {},
    "colab_type": "code",
    "id": "eColT3LfJH5s",
    "outputId": "cdd3bd1a-7866-4a85-fe16-f2e5b7a72b6b"
   },
   "outputs": [
    {
     "name": "stdout",
     "output_type": "stream",
     "text": [
      "Wall time: 0 ns\n"
     ]
    }
   ],
   "source": [
    "import random\n",
    "import time\n",
    "\n",
    "%time\n",
    "customer_ids_a = random.sample(range(1000000, 50000000), 10000000)\n",
    "customer_ids_b = random.sample(range(1000000, 50000000), 10000000)"
   ]
  },
  {
   "cell_type": "markdown",
   "metadata": {
    "colab_type": "text",
    "id": "Ep0Jw85YJH5w"
   },
   "source": [
    "Посмотрим на наши массивы, делая срезы в 5 и 10 элементов."
   ]
  },
  {
   "cell_type": "code",
   "execution_count": 154,
   "metadata": {
    "colab": {},
    "colab_type": "code",
    "id": "MTloAasvJH5w",
    "outputId": "60af3a41-a99f-4cc5-8915-55544d3d972d"
   },
   "outputs": [
    {
     "name": "stdout",
     "output_type": "stream",
     "text": [
      "Массив А:[271568628, 433447658, 135322621, 3862184, 351550300]\n",
      "Массив Б:[471690267, 385617797, 239778895, 301345204, 266161691, 426159891, 345494997, 369717587, 240829725, 151213474]\n"
     ]
    }
   ],
   "source": [
    "print('Массив А:%s'%customer_ids_a[:5])\n",
    "print('Массив Б:%s'%customer_ids_b[:10])"
   ]
  },
  {
   "cell_type": "markdown",
   "metadata": {
    "colab_type": "text",
    "id": "q6A0vApkJH5z"
   },
   "source": [
    "В таких задачах так же могут попадаться неуникальные или повторяющиеся значения, которые не хотелось бы использовать, чтобы избежать ошибок и коллизий.<br>\n",
    "Вспомним упомянутый выше удобный метод **.unique()**, который возвращает нам только уникальные значения обхекта к которому мы его применям.<br>\n",
    "Проверим наши вектора на уникальность."
   ]
  },
  {
   "cell_type": "code",
   "execution_count": null,
   "metadata": {
    "colab": {},
    "colab_type": "code",
    "id": "sMLvGQ1XJH5z",
    "outputId": "1905abb7-59e4-4b99-b100-c1ac9b429735"
   },
   "outputs": [
    {
     "name": "stdout",
     "output_type": "stream",
     "text": [
      "Уникальныых значений в массиве А: 1000000\n",
      "Уникальныых значений в массиве Б: 1000000\n"
     ]
    }
   ],
   "source": [
    "print('Уникальныых значений в массиве А: %s'% len(np.unique(customer_ids_a)))\n",
    "print('Уникальныых значений в массиве Б: %s'% len(np.unique(customer_ids_b)))"
   ]
  },
  {
   "cell_type": "markdown",
   "metadata": {
    "colab_type": "text",
    "id": "0n8aOTbLJH56"
   },
   "source": [
    "Все проверив, мы можем применить метод **.intersect1d()** и посмотреть на пересечение."
   ]
  },
  {
   "cell_type": "code",
   "execution_count": null,
   "metadata": {
    "colab": {},
    "colab_type": "code",
    "id": "WlZg496yJH56",
    "outputId": "79efa05c-51e4-4cc7-b205-335f1070934d"
   },
   "outputs": [
    {
     "name": "stdout",
     "output_type": "stream",
     "text": [
      "CPU times: user 4 µs, sys: 1 µs, total: 5 µs\n",
      "Wall time: 11.2 µs\n"
     ]
    }
   ],
   "source": [
    "%time\n",
    "c = np.intersect1d(customer_ids_a,customer_ids_b)"
   ]
  },
  {
   "cell_type": "code",
   "execution_count": null,
   "metadata": {
    "colab": {},
    "colab_type": "code",
    "id": "sDi5laumJH59",
    "outputId": "d1b23699-387e-40a2-acc0-72c316be4101"
   },
   "outputs": [
    {
     "data": {
      "text/plain": [
       "array([1000022, 1000024, 1000035, ..., 4999951, 4999973, 4999997])"
      ]
     },
     "execution_count": 142,
     "metadata": {
      "tags": []
     },
     "output_type": "execute_result"
    }
   ],
   "source": [
    "c"
   ]
  },
  {
   "cell_type": "markdown",
   "metadata": {
    "colab_type": "text",
    "id": "544ZAySVJH5_"
   },
   "source": [
    "Так как у нас довольно большое количество элементов в списке, то веротяность того что будет хотя бы одно пересечение довольно высока. \n",
    "Посмотрим на то, что у нас получилось."
   ]
  },
  {
   "cell_type": "markdown",
   "metadata": {
    "colab_type": "text",
    "id": "pVIJ1aUpJH6A"
   },
   "source": [
    "У нас получился вектор пересечений, который не вмещается строчку отображения в Jupyter notebook, так что давайте посмотрим на то сколько у нас получилось в нем объектов, используя метод **len()**."
   ]
  },
  {
   "cell_type": "code",
   "execution_count": null,
   "metadata": {
    "colab": {},
    "colab_type": "code",
    "id": "DdkAmdhrJH6B",
    "outputId": "f9581960-5e17-4d0c-8f2a-73a2c713f083"
   },
   "outputs": [
    {
     "name": "stdout",
     "output_type": "stream",
     "text": [
      "Наше пересечение равно 250572 объектам.\n"
     ]
    }
   ],
   "source": [
    "print('Наше пересечение равно %s объектам.' %len(c))"
   ]
  },
  {
   "cell_type": "markdown",
   "metadata": {
    "colab_type": "text",
    "id": "Enl5WrYMJH6E"
   },
   "source": [
    "В 1 строчкe можно посчитать отношение нашего пересечения к количеству id нашего массива, в котором мы искали пересечение."
   ]
  },
  {
   "cell_type": "code",
   "execution_count": null,
   "metadata": {
    "colab": {},
    "colab_type": "code",
    "id": "Aji4tKkBJH6F",
    "outputId": "a03e999e-6204-4854-d633-7a36ec8b9d18"
   },
   "outputs": [
    {
     "data": {
      "text/plain": [
       "25.0572"
      ]
     },
     "execution_count": 144,
     "metadata": {
      "tags": []
     },
     "output_type": "execute_result"
    }
   ],
   "source": [
    "len(c)/len(customer_ids_b)*100"
   ]
  },
  {
   "cell_type": "markdown",
   "metadata": {
    "colab_type": "text",
    "id": "I4Y6K48pJH6G"
   },
   "source": [
    "И предстваить его в более читаемом и осмысленном виде."
   ]
  },
  {
   "cell_type": "code",
   "execution_count": null,
   "metadata": {
    "colab": {},
    "colab_type": "code",
    "id": "KYwtuTZVJH6I",
    "outputId": "f6729b81-621c-4bf4-d877-adb98f3474bb"
   },
   "outputs": [
    {
     "name": "stdout",
     "output_type": "stream",
     "text": [
      "Наше пересечение равно 25.06 процентов.\n"
     ]
    }
   ],
   "source": [
    "print('Наше пересечение равно %s процентов.'%round(len(c)/len(customer_ids_b)*100,2))"
   ]
  },
  {
   "cell_type": "markdown",
   "metadata": {
    "colab_type": "text",
    "id": "EWcPCwZyJH6K"
   },
   "source": [
    "Другие методы для выполнения математических и логических операций с векторами и матрицами можно найти в документации на официальном сайте [библиотеки](https://docs.scipy.org/doc/numpy-1.15.1/reference/)."
   ]
  }
 ],
 "metadata": {
  "colab": {
   "name": "module_2.1_numpy_intersection.ipynb",
   "provenance": [],
   "version": "0.3.2"
  },
  "kernelspec": {
   "display_name": "Python 3",
   "language": "python",
   "name": "python3"
  },
  "language_info": {
   "codemirror_mode": {
    "name": "ipython",
    "version": 3
   },
   "file_extension": ".py",
   "mimetype": "text/x-python",
   "name": "python",
   "nbconvert_exporter": "python",
   "pygments_lexer": "ipython3",
   "version": "3.8.8"
  }
 },
 "nbformat": 4,
 "nbformat_minor": 4
}
